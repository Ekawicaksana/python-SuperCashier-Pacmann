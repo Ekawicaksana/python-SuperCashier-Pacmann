{
 "cells": [
  {
   "cell_type": "code",
   "execution_count": 1,
   "id": "f00a4668",
   "metadata": {},
   "outputs": [],
   "source": [
    "import cashier as c"
   ]
  },
  {
   "cell_type": "code",
   "execution_count": 2,
   "id": "208c82b8",
   "metadata": {},
   "outputs": [
    {
     "name": "stdout",
     "output_type": "stream",
     "text": [
      "Item yang dibeli adalah: {'Mie Goreng': [1, 35000]}.\n",
      "Item yang dibeli adalah: {'Mie Goreng': [1, 35000], 'Minyak Zaitun': [3, 66000]}.\n",
      "Item yang dibeli adalah: {'Mie Goreng': [1, 35000], 'Minyak Zaitun': [3, 66000], 'Tepung Terigu': [2, 40000]}.\n"
     ]
    }
   ],
   "source": [
    "trnsct_123 = c.Transaction()\n",
    "trnsct_123.add_item(\"Mie Goreng\", 1, 35_000)\n",
    "trnsct_123.add_item(\"Minyak Zaitun\", 3, 66_000)\n",
    "trnsct_123.add_item(\"Tepung Terigu\", 2, 40_000)"
   ]
  },
  {
   "cell_type": "code",
   "execution_count": 3,
   "id": "c63dcdaa",
   "metadata": {},
   "outputs": [
    {
     "name": "stdout",
     "output_type": "stream",
     "text": [
      "{'Minyak Zaitun': [3, 66000], 'Tepung Terigu': [2, 40000], 'Saos Tiram': [1, 35000]}\n",
      "{'Minyak Zaitun': [3, 66000], 'Tepung Terigu': [4, 40000], 'Saos Tiram': [1, 35000]}\n",
      "{'Minyak Zaitun': [90000, 66000], 'Tepung Terigu': [4, 40000], 'Saos Tiram': [1, 35000]}\n"
     ]
    }
   ],
   "source": [
    "trnsct_123.update_item_name(\"Mie Goreng\", \"Saos Tiram\")\n",
    "trnsct_123.update_item_qty(\"Tepung Terigu\", 4)\n",
    "trnsct_123.update_item_price(\"Minyak Zaitun\", 90_000)"
   ]
  },
  {
   "cell_type": "code",
   "execution_count": 4,
   "id": "f7b910b6",
   "metadata": {},
   "outputs": [
    {
     "name": "stdout",
     "output_type": "stream",
     "text": [
      "Menghapus pesanan Minyak Zaitun.\n",
      "{'Tepung Terigu': [4, 40000], 'Saos Tiram': [1, 35000]}\n"
     ]
    }
   ],
   "source": [
    "trnsct_123.delete_item(\"Minyak Zaitun\")"
   ]
  },
  {
   "cell_type": "code",
   "execution_count": 5,
   "id": "3c58e2df",
   "metadata": {},
   "outputs": [
    {
     "name": "stdout",
     "output_type": "stream",
     "text": [
      "Seluruh item telah berhasil terhapus\n"
     ]
    }
   ],
   "source": [
    "trnsct_123.reset_transaction()"
   ]
  },
  {
   "cell_type": "code",
   "execution_count": 6,
   "id": "d6af6335",
   "metadata": {},
   "outputs": [
    {
     "name": "stdout",
     "output_type": "stream",
     "text": [
      "Item yang dibeli adalah: {'Ayam': [3, 35000]}.\n",
      "Item yang dibeli adalah: {'Ayam': [3, 35000], 'Pasta Gigi': [1, 15000]}.\n",
      "Item yang dibeli adalah: {'Ayam': [3, 35000], 'Pasta Gigi': [1, 15000], 'Mie goreng': [5, 10000]}.\n",
      "Item yang dibeli adalah: {'Ayam': [3, 35000], 'Pasta Gigi': [1, 15000], 'Mie goreng': [5, 10000], 'Minyak Zaitun': [3, 83000]}.\n",
      "Item yang dibeli adalah: {'Ayam': [3, 35000], 'Pasta Gigi': [1, 15000], 'Mie goreng': [5, 10000], 'Minyak Zaitun': [3, 83000], 'Ikan Salmon': [2, 110000]}.\n",
      "Item yang dibeli adalah: {'Ayam': [3, 35000], 'Pasta Gigi': [1, 15000], 'Mie goreng': [5, 10000], 'Minyak Zaitun': [3, 83000], 'Ikan Salmon': [2, 110000], 'Tepung Terigu': [3, 40000]}.\n",
      "Item yang dibeli adalah: {'Ayam': [3, 35000], 'Pasta Gigi': [1, 15000], 'Mie goreng': [5, 10000], 'Minyak Zaitun': [3, 83000], 'Ikan Salmon': [2, 110000], 'Tepung Terigu': [3, 40000], 'Saos Tiram': [1, 29000]}.\n",
      "Item yang dibeli adalah: {'Ayam': [3, 35000], 'Pasta Gigi': [1, 15000], 'Mie goreng': [5, 10000], 'Minyak Zaitun': [3, 83000], 'Ikan Salmon': [2, 110000], 'Tepung Terigu': [3, 40000], 'Saos Tiram': [1, 29000], 'Gula Pasir': [2, 40000]}.\n"
     ]
    }
   ],
   "source": [
    "trnsct_123 = c.Transaction()\n",
    "trnsct_123.add_item(\"Ayam\", 3, 35_000)\n",
    "trnsct_123.add_item(\"Pasta Gigi\", 1, 15_000)\n",
    "trnsct_123.add_item(\"Mie goreng\", 5, 10_000)\n",
    "trnsct_123.add_item(\"Minyak Zaitun\", 3, 83_000)\n",
    "trnsct_123.add_item(\"Ikan Salmon\", 2, 110_000)\n",
    "trnsct_123.add_item(\"Tepung Terigu\", 3, 40_000)\n",
    "trnsct_123.add_item(\"Saos Tiram\", 1, 29_000)\n",
    "trnsct_123.add_item(\"Gula Pasir\", 2, 40_000)"
   ]
  },
  {
   "cell_type": "code",
   "execution_count": 7,
   "id": "233a293c",
   "metadata": {},
   "outputs": [
    {
     "name": "stdout",
     "output_type": "stream",
     "text": [
      "| Nama Item     |   Jumlah Item |   Harga/Item |\n",
      "|---------------|---------------|--------------|\n",
      "| Ayam          |             3 |        35000 |\n",
      "| Pasta Gigi    |             1 |        15000 |\n",
      "| Mie goreng    |             5 |        10000 |\n",
      "| Minyak Zaitun |             3 |        83000 |\n",
      "| Ikan Salmon   |             2 |       110000 |\n",
      "| Tepung Terigu |             3 |        40000 |\n",
      "| Saos Tiram    |             1 |        29000 |\n",
      "| Gula Pasir    |             2 |        40000 |\n"
     ]
    }
   ],
   "source": [
    "trnsct_123.print_item()"
   ]
  },
  {
   "cell_type": "code",
   "execution_count": 8,
   "id": "bccd300b",
   "metadata": {},
   "outputs": [
    {
     "name": "stdout",
     "output_type": "stream",
     "text": [
      "| Nama Item     |   Jumlah Item |   Harga/Item |\n",
      "|---------------|---------------|--------------|\n",
      "| Ayam          |             3 |        35000 |\n",
      "| Pasta Gigi    |             1 |        15000 |\n",
      "| Mie goreng    |             5 |        10000 |\n",
      "| Minyak Zaitun |             3 |        83000 |\n",
      "| Ikan Salmon   |             2 |       110000 |\n",
      "| Tepung Terigu |             3 |        40000 |\n",
      "| Saos Tiram    |             1 |        29000 |\n",
      "| Gula Pasir    |             2 |        40000 |\n",
      "Selamat, Anda mendapatkan diskon 8% sebesar Rp 28960.\n",
      "Total belanja Anda adalah Rp 333040.\n"
     ]
    }
   ],
   "source": [
    "trnsct_123.total_price()"
   ]
  },
  {
   "cell_type": "code",
   "execution_count": null,
   "id": "be8fcb10",
   "metadata": {},
   "outputs": [],
   "source": []
  }
 ],
 "metadata": {
  "kernelspec": {
   "display_name": "Python 3 (ipykernel)",
   "language": "python",
   "name": "python3"
  },
  "language_info": {
   "codemirror_mode": {
    "name": "ipython",
    "version": 3
   },
   "file_extension": ".py",
   "mimetype": "text/x-python",
   "name": "python",
   "nbconvert_exporter": "python",
   "pygments_lexer": "ipython3",
   "version": "3.10.9"
  }
 },
 "nbformat": 4,
 "nbformat_minor": 5
}
